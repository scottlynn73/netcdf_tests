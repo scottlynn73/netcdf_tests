{
 "cells": [
  {
   "cell_type": "code",
   "execution_count": 129,
   "metadata": {},
   "outputs": [],
   "source": [
    "import xarray as xr\n",
    "import gdal\n",
    "import numpy as np\n",
    "import netCDF4 as nc4"
   ]
  },
  {
   "cell_type": "code",
   "execution_count": 130,
   "metadata": {},
   "outputs": [],
   "source": [
    "%matplotlib inline\n",
    "from __future__ import print_function\n",
    "import time\n",
    "from scipy.signal import fftconvolve\n",
    "import matplotlib.pyplot as plt\n",
    "import time"
   ]
  },
  {
   "cell_type": "code",
   "execution_count": 131,
   "metadata": {},
   "outputs": [],
   "source": [
    "#--------------------\n",
    "# function to make kernels and grid\n",
    "#--------------------\n",
    "# DOCSTRING\n",
    "\"\"\"Arguments: kernel_x = kernel cells in x axis\n",
    "            kernel_y = kernel cells on y axis\n",
    "            grid_x = emissions grid cells on x\n",
    "            grid_y = emissions grid cells on y\n",
    "\"\"\"\n",
    "\n",
    "def kernel_grid(kernel_x, kernel_y, grid_x, grid_y):\n",
    "    big_array = np.random.random((grid_x, grid_y))\n",
    "    small_array = np.random.random((kernel_x, kernel_y))\n",
    "    convolved = fftconvolve(big_array, small_array)\n",
    "    return convolved"
   ]
  },
  {
   "cell_type": "code",
   "execution_count": 132,
   "metadata": {},
   "outputs": [
    {
     "name": "stdout",
     "output_type": "stream",
     "text": [
      "0.251956939697 seconds\n"
     ]
    }
   ],
   "source": [
    "#-------------------\n",
    "# set up typical case\n",
    "# 55 x 55, 25 million receptors\n",
    "#-------------------\n",
    "start = time.time()                         # start timer\n",
    "test1 = kernel_grid(55, 55, 1000, 1000)   # set up grid conditions\n",
    "test1_time = str((time.time()-start))       # run convolution function\n",
    "\n",
    "# clear out old runs from memory\n",
    "#test1 = None # keep it in memory for now while we test the netcdf compilation\n",
    "\n",
    "print(str(test1_time + \" seconds\"))         # return the time data"
   ]
  },
  {
   "cell_type": "code",
   "execution_count": 133,
   "metadata": {},
   "outputs": [],
   "source": [
    "# Put test 1 in a netcdf file\n",
    "\n",
    "# get dimensions for the array\n",
    "x_coords = range(test1.shape[0])\n",
    "y_coords = range(test1.shape[1])\n",
    "# convert the numpy array to a DataArray\n",
    "test1_array = xr.DataArray(test1, coords=[x_coords, y_coords], dims=['x', 'y'])"
   ]
  },
  {
   "cell_type": "code",
   "execution_count": 134,
   "metadata": {},
   "outputs": [],
   "source": [
    "# make a netcdf file to store the data\n",
    "f = nc4.Dataset('test_netcdf_data_store.nc','w', format='NETCDF4', zlib=True, least_significant_digit=1) #'w' stands for write"
   ]
  },
  {
   "cell_type": "code",
   "execution_count": 135,
   "metadata": {},
   "outputs": [],
   "source": [
    "test1_array.to_netcdf('test_netcdf_data_store.nc', mode='a', group = 'test_1')"
   ]
  },
  {
   "cell_type": "code",
   "execution_count": 136,
   "metadata": {},
   "outputs": [],
   "source": [
    "test2_array = test1_array * 5"
   ]
  },
  {
   "cell_type": "code",
   "execution_count": 137,
   "metadata": {},
   "outputs": [],
   "source": [
    "test2_array.to_netcdf('test_netcdf_data_store.nc', mode='a', group = 'test_2')"
   ]
  },
  {
   "cell_type": "code",
   "execution_count": 138,
   "metadata": {},
   "outputs": [],
   "source": [
    "test3_array = test2_array * 0.188283882"
   ]
  },
  {
   "cell_type": "code",
   "execution_count": 139,
   "metadata": {},
   "outputs": [],
   "source": [
    "test3_array.to_netcdf('test_netcdf_data_store.nc', mode='a', group = 'test_3')"
   ]
  },
  {
   "cell_type": "code",
   "execution_count": 140,
   "metadata": {},
   "outputs": [],
   "source": [
    "test4_array = test3_array * 0.188283882"
   ]
  },
  {
   "cell_type": "code",
   "execution_count": 141,
   "metadata": {},
   "outputs": [],
   "source": [
    "test4_array.to_netcdf('test_netcdf_data_store.nc', mode='a', group = 'test_4')"
   ]
  },
  {
   "cell_type": "code",
   "execution_count": 142,
   "metadata": {},
   "outputs": [
    {
     "name": "stdout",
     "output_type": "stream",
     "text": [
      "meta data for the dataset:\n",
      "<type 'netCDF4._netCDF4.Dataset'>\n",
      "root group (NETCDF4 data model, file format HDF5):\n",
      "    dimensions(sizes): \n",
      "    variables(dimensions): \n",
      "    groups: test_1, test_2, test_3, test_4\n",
      "\n",
      "meta data for the test_1 group:\n",
      "<type 'netCDF4._netCDF4.Group'>\n",
      "group /test_1:\n",
      "    dimensions(sizes): x(1054), y(1054)\n",
      "    variables(dimensions): int64 \u001b[4mx\u001b[0m(x), int64 \u001b[4my\u001b[0m(y), float64 \u001b[4m__xarray_dataarray_variable__\u001b[0m(x,y)\n",
      "    groups: \n",
      "\n",
      "[u'x', u'y', u'__xarray_dataarray_variable__']\n"
     ]
    }
   ],
   "source": [
    "# read the netcdf back in and have a look at it\n",
    "f = nc4.Dataset('test_netcdf_data_store.nc','a')\n",
    "\n",
    "grid_group = f.groups['test_1']\n",
    "\n",
    "print(\"meta data for the dataset:\")\n",
    "print(f)\n",
    "print(\"meta data for the test_1 group:\")\n",
    "print(f.groups['test_1'])\n",
    "print(f.groups['test_1'].variables.keys()) # get list of variables by keys"
   ]
  },
  {
   "cell_type": "code",
   "execution_count": 147,
   "metadata": {},
   "outputs": [],
   "source": [
    "# get time in days since Jan 01,01\n",
    "from datetime import datetime\n",
    "today = datetime.today()\n",
    "\n",
    "#Add global attributes\n",
    "f.description = \"Test combining several numpy arrays in a single netcdf file\"\n",
    "f.history = \"Created \" + today.strftime(\"%d/%m/%y\")\n",
    "\n",
    "x = grid_group.createVariable('X', 'f4', 'x')\n",
    "y = grid_group.createVariable('Y', 'f4', 'y')\n",
    "\n",
    "data = grid_group.createVariable('Concs', 'f4', ('x', 'y'), zlib=True, least_significant_digit=1)\n",
    "\n",
    "\n",
    "#Add local attributes to variable instances\n",
    "x.units = 'metres'\n",
    "y.units = 'metres'\n",
    "data.units = 'micrograms per metre cubed'\n",
    "data.description = 'This is a description of the input data, could be as long as we want yada yada yada'"
   ]
  },
  {
   "cell_type": "code",
   "execution_count": 148,
   "metadata": {},
   "outputs": [
    {
     "name": "stdout",
     "output_type": "stream",
     "text": [
      "meta data for the dataset:\n",
      "<type 'netCDF4._netCDF4.Dataset'>\n",
      "root group (NETCDF4 data model, file format HDF5):\n",
      "    dimensions(sizes): \n",
      "    variables(dimensions): \n",
      "    groups: test_1, test_2, test_3, test_4\n",
      "\n",
      "meta data for the test_1 group:\n",
      "<type 'netCDF4._netCDF4.Group'>\n",
      "group /test_1:\n",
      "    dimensions(sizes): x(1054), y(1054)\n",
      "    variables(dimensions): int64 \u001b[4mx\u001b[0m(x), int64 \u001b[4my\u001b[0m(y), float64 \u001b[4m__xarray_dataarray_variable__\u001b[0m(x,y)\n",
      "    groups: \n",
      "\n",
      "[u'x', u'y', u'__xarray_dataarray_variable__']\n"
     ]
    }
   ],
   "source": [
    "# read the netcdf back in and have a look at it\n",
    "f = nc4.Dataset('test_netcdf_data_store.nc','r')\n",
    "\n",
    "grid_group = f.groups['test_1']\n",
    "\n",
    "print(\"meta data for the dataset:\")\n",
    "print(f)\n",
    "print(\"meta data for the test_1 group:\")\n",
    "print(f.groups['test_1'])\n",
    "print(f.groups['test_1'].variables.keys()) # get list of variables by keys"
   ]
  },
  {
   "cell_type": "code",
   "execution_count": null,
   "metadata": {},
   "outputs": [],
   "source": []
  }
 ],
 "metadata": {
  "kernelspec": {
   "display_name": "Python 2",
   "language": "python",
   "name": "python2"
  },
  "language_info": {
   "codemirror_mode": {
    "name": "ipython",
    "version": 2
   },
   "file_extension": ".py",
   "mimetype": "text/x-python",
   "name": "python",
   "nbconvert_exporter": "python",
   "pygments_lexer": "ipython2",
   "version": "2.7.13"
  }
 },
 "nbformat": 4,
 "nbformat_minor": 2
}
